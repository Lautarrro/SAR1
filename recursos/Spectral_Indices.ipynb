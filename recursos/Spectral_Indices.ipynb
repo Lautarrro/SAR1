{
  "nbformat": 4,
  "nbformat_minor": 0,
  "metadata": {
    "colab": {
      "provenance": []
    },
    "kernelspec": {
      "name": "python3",
      "display_name": "Python 3"
    },
    "language_info": {
      "name": "python"
    }
  },
  "cells": [
    {
      "cell_type": "code",
      "execution_count": null,
      "metadata": {
        "colab": {
          "base_uri": "https://localhost:8080/"
        },
        "id": "SQwAKpmYyCXg",
        "outputId": "9627b981-6307-499d-df2f-6b4e2611f089"
      },
      "outputs": [
        {
          "output_type": "stream",
          "name": "stdout",
          "text": [
            "Looking in indexes: https://pypi.org/simple, https://us-python.pkg.dev/colab-wheels/public/simple/\n",
            "Collecting rasterio\n",
            "  Downloading rasterio-1.3.4-cp38-cp38-manylinux_2_17_x86_64.manylinux2014_x86_64.whl (20.9 MB)\n",
            "\u001b[2K     \u001b[90m━━━━━━━━━━━━━━━━━━━━━━━━━━━━━━━━━━━━━━━━\u001b[0m \u001b[32m20.9/20.9 MB\u001b[0m \u001b[31m57.1 MB/s\u001b[0m eta \u001b[36m0:00:00\u001b[0m\n",
            "\u001b[?25hRequirement already satisfied: click>=4.0 in /usr/local/lib/python3.8/dist-packages (from rasterio) (7.1.2)\n",
            "Requirement already satisfied: numpy>=1.18 in /usr/local/lib/python3.8/dist-packages (from rasterio) (1.21.6)\n",
            "Collecting affine\n",
            "  Downloading affine-2.3.1-py2.py3-none-any.whl (16 kB)\n",
            "Collecting click-plugins\n",
            "  Downloading click_plugins-1.1.1-py2.py3-none-any.whl (7.5 kB)\n",
            "Requirement already satisfied: setuptools in /usr/local/lib/python3.8/dist-packages (from rasterio) (57.4.0)\n",
            "Requirement already satisfied: attrs in /usr/local/lib/python3.8/dist-packages (from rasterio) (22.2.0)\n",
            "Requirement already satisfied: certifi in /usr/local/lib/python3.8/dist-packages (from rasterio) (2022.12.7)\n",
            "Collecting cligj>=0.5\n",
            "  Downloading cligj-0.7.2-py3-none-any.whl (7.1 kB)\n",
            "Collecting snuggs>=1.4.1\n",
            "  Downloading snuggs-1.4.7-py3-none-any.whl (5.4 kB)\n",
            "Requirement already satisfied: pyparsing>=2.1.6 in /usr/local/lib/python3.8/dist-packages (from snuggs>=1.4.1->rasterio) (3.0.9)\n",
            "Installing collected packages: affine, snuggs, cligj, click-plugins, rasterio\n",
            "Successfully installed affine-2.3.1 click-plugins-1.1.1 cligj-0.7.2 rasterio-1.3.4 snuggs-1.4.7\n"
          ]
        }
      ],
      "source": [
        "!pip install rasterio"
      ]
    },
    {
      "cell_type": "code",
      "source": [
        "from google.colab import drive\n",
        "import os\n",
        "import rasterio\n",
        "import numpy as np"
      ],
      "metadata": {
        "id": "2N8BNBBuyOH5"
      },
      "execution_count": null,
      "outputs": []
    },
    {
      "cell_type": "code",
      "source": [
        "#Monto mi drive\n",
        "drive.mount('/content/drive',force_remount=True)"
      ],
      "metadata": {
        "colab": {
          "base_uri": "https://localhost:8080/"
        },
        "id": "xbPXZoB6yPgO",
        "outputId": "501d57c2-2d39-4d71-ce21-ba4dbb510ff7"
      },
      "execution_count": null,
      "outputs": [
        {
          "output_type": "stream",
          "name": "stdout",
          "text": [
            "Mounted at /content/drive\n"
          ]
        }
      ]
    },
    {
      "cell_type": "code",
      "source": [
        "# Insertar directorio donde se encuentran las imagenes opticas para agregarles los indices \n",
        "#directory_path = \n",
        "directory_files = os.listdir(directory_path)"
      ],
      "metadata": {
        "id": "KR4OaFsiydVv"
      },
      "execution_count": null,
      "outputs": []
    },
    {
      "cell_type": "code",
      "source": [
        "def indices(directory,path):\n",
        "  \"\"\"Agrega los indices ndvi y ndwi(ambas ecuaciones) como las ultimas 3 bandas al raster\"\"\"\n",
        "  dataset = rasterio.open(directory+path)\n",
        "  green = dataset.read(2)\n",
        "  red = dataset.read(1)\n",
        "  nir = dataset.read(4)\n",
        "  swir = dataset.read(6)\n",
        "  ndvi = (nir.astype(float) - red.astype(float))/(nir+red)\n",
        "  ndwi_mcfeeters = (nir.astype(float) - green.astype(float))/(nir+green)\n",
        "  ndwi_gao = (nir.astype(float) - swir.astype(float))/(nir+swir)\n",
        "  profile = dataset.meta\n",
        "  profile['count'] = dataset.count+3\n",
        "  profile.update(driver='GTiff')\n",
        "  profile.update(dtype=rasterio.float32)\n",
        "\n",
        "  bands = dataset.read()\n",
        "  bands = np.append(bands, np.array([ndvi, ndwi_mcfeeters,ndwi_gao]), axis = 0)\n",
        "  with rasterio.open(directory+'/'+path+'', 'w', **profile) as dst:\n",
        "    dst.write(bands,range(1,profile['count']+1))\n",
        "  dataset.close()"
      ],
      "metadata": {
        "id": "r0ckOOACeUsj"
      },
      "execution_count": null,
      "outputs": []
    },
    {
      "cell_type": "code",
      "source": [
        "for each in directory_files:\n",
        "  indices(directory_path,each)"
      ],
      "metadata": {
        "id": "LnmcZQKWygqm"
      },
      "execution_count": null,
      "outputs": []
    }
  ]
}